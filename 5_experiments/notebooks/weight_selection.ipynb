{
 "cells": [
  {
   "cell_type": "code",
   "execution_count": 15,
   "metadata": {},
   "outputs": [
    {
     "name": "stderr",
     "output_type": "stream",
     "text": [
      "/home/nguyenvd_drone/miniconda3/envs/andt/lib/python3.8/site-packages/tqdm/auto.py:21: TqdmWarning: IProgress not found. Please update jupyter and ipywidgets. See https://ipywidgets.readthedocs.io/en/stable/user_install.html\n",
      "  from .autonotebook import tqdm as notebook_tqdm\n"
     ]
    }
   ],
   "source": [
    "import numpy as np\n",
    "import torch\n",
    "import timm"
   ]
  },
  {
   "cell_type": "code",
   "execution_count": 16,
   "metadata": {},
   "outputs": [],
   "source": [
    "def uniform_element_selection(wt, s_shape):\n",
    "    assert wt.dim() == len(s_shape), \"Tensors have different number of dimensions\"\n",
    "    ws = wt.clone()\n",
    "    for dim in range(wt.dim()):\n",
    "        assert wt.shape[dim] >= s_shape[dim], \"Teacher's dimension should not be smaller than student's dimension\"  # determine whether teacher is larger than student on this dimension\n",
    "        if wt.shape[dim] % s_shape[dim] == 0:\n",
    "            step = wt.shape[dim] // s_shape[dim]\n",
    "            indices = torch.arange(s_shape[dim]) * step\n",
    "        else:\n",
    "            indices = torch.round(torch.linspace(0, wt.shape[dim]-1, s_shape[dim])).long()\n",
    "        ws = torch.index_select(ws, dim, indices)\n",
    "    assert ws.shape == s_shape\n",
    "    return ws"
   ]
  },
  {
   "cell_type": "code",
   "execution_count": 17,
   "metadata": {},
   "outputs": [
    {
     "name": "stderr",
     "output_type": "stream",
     "text": [
      "/home/nguyenvd_drone/miniconda3/envs/andt/lib/python3.8/site-packages/timm/models/_factory.py:117: UserWarning: Mapping deprecated model name vit_small_patch16_224_in21k to current vit_small_patch16_224.augreg_in21k.\n",
      "  model = create_fn(\n",
      "Downloading model.safetensors: 100%|██████████| 120M/120M [00:05<00:00, 20.8MB/s] \n"
     ]
    },
    {
     "ename": "ModuleNotFoundError",
     "evalue": "No module named 'models'",
     "output_type": "error",
     "traceback": [
      "\u001b[0;31m---------------------------------------------------------------------------\u001b[0m",
      "\u001b[0;31mModuleNotFoundError\u001b[0m                       Traceback (most recent call last)",
      "Cell \u001b[0;32mIn[17], line 4\u001b[0m\n\u001b[1;32m      2\u001b[0m teacher \u001b[38;5;241m=\u001b[39m timm\u001b[38;5;241m.\u001b[39mcreate_model(\u001b[38;5;124m'\u001b[39m\u001b[38;5;124mvit_small_patch16_224_in21k\u001b[39m\u001b[38;5;124m'\u001b[39m, pretrained\u001b[38;5;241m=\u001b[39m\u001b[38;5;28;01mTrue\u001b[39;00m)\n\u001b[1;32m      3\u001b[0m teacher_weights \u001b[38;5;241m=\u001b[39m teacher\u001b[38;5;241m.\u001b[39mstate_dict()\n\u001b[0;32m----> 4\u001b[0m \u001b[38;5;28;01mfrom\u001b[39;00m \u001b[38;5;21;01mmodels\u001b[39;00m\u001b[38;5;21;01m.\u001b[39;00m\u001b[38;5;21;01mvision_transformer\u001b[39;00m \u001b[38;5;28;01mimport\u001b[39;00m vit_tiny\n\u001b[1;32m      5\u001b[0m student \u001b[38;5;241m=\u001b[39m vit_tiny()\n\u001b[1;32m      6\u001b[0m student_weights \u001b[38;5;241m=\u001b[39m student\u001b[38;5;241m.\u001b[39mstate_dict()\n",
      "\u001b[0;31mModuleNotFoundError\u001b[0m: No module named 'models'"
     ]
    }
   ],
   "source": [
    "# ViT-T weight selection from ImageNet-21K pretrained ViT-S\n",
    "teacher = timm.create_model('vit_small_patch16_224_in21k', pretrained=True)\n",
    "teacher_weights = teacher.state_dict()\n",
    "from models.vision_transformer import vit_tiny\n",
    "student = vit_tiny()\n",
    "student_weights = student.state_dict()\n",
    "# ConvNeXt-F weight seletion from ImageNet-21K pretrained ConvNeXt-T\n",
    "# Uncomment below for ConvNeXt\n",
    "# teacher = timm.create_model('convnext_tiny_in22k', pretrained=True)\n",
    "# teacher_weights = teacher.state_dict()\n",
    "# from models.convnext import convnext_femto\n",
    "# student = convnext_femto()\n",
    "# student_weights = student.state_dict()"
   ]
  },
  {
   "cell_type": "code",
   "execution_count": null,
   "metadata": {},
   "outputs": [],
   "source": [
    "weight_selection = {}\n",
    "for key in student_weights.keys():\n",
    "    # We don't perform weight selection on classification head by default. Remove this constraint if target dataset is the same as teacher's.\n",
    "    if \"head\" in key:\n",
    "        continue\n",
    "    # First-N layer selection is implicitly applied here\n",
    "    weight_selection[key] = uniform_element_selection(teacher_weights[key], student_weights[key].shape)"
   ]
  },
  {
   "cell_type": "code",
   "execution_count": null,
   "metadata": {},
   "outputs": [],
   "source": [
    "torch.save({'model':weight_selection}, \"weight_selection.pth\")"
   ]
  }
 ],
 "metadata": {
  "kernelspec": {
   "display_name": "andt",
   "language": "python",
   "name": "python3"
  },
  "language_info": {
   "codemirror_mode": {
    "name": "ipython",
    "version": 3
   },
   "file_extension": ".py",
   "mimetype": "text/x-python",
   "name": "python",
   "nbconvert_exporter": "python",
   "pygments_lexer": "ipython3",
   "version": "3.8.19"
  }
 },
 "nbformat": 4,
 "nbformat_minor": 4
}
